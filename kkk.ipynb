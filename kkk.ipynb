{
 "cells": [
  {
   "cell_type": "code",
   "execution_count": 16,
   "metadata": {},
   "outputs": [],
   "source": [
    "def longest_string(string:str)->int:\n",
    "    result_string=''\n",
    "    maxlen=0\n",
    "    for index,char in enumerate(string):\n",
    "        if char in result_string: # Replace with visited[26] to reduce to O(n+26)\n",
    "            result_string=result_string[result_string.index(char)+1:]\n",
    "        result_string+=char\n",
    "        maxlen=max(maxlen,len(result_string))\n",
    "    if maxlen==0:\n",
    "        return False\n",
    "    return maxlen\n"
   ]
  },
  {
   "cell_type": "code",
   "execution_count": 67,
   "metadata": {},
   "outputs": [],
   "source": [
    "def longest_string(string:str)->int:\n",
    "    result_string=''\n",
    "    maxlen=0\n",
    "    check={}\n",
    "    curr_idx=0\n",
    "    for idx in range(256):\n",
    "        #Dictionary\n",
    "        check[idx]=-1\n",
    "    for index,char in enumerate(string):\n",
    "        #print(char)\n",
    "        #print(ord(char)-ord('A'))\n",
    "        print(curr_idx)\n",
    "        if curr_idx<=check[ord(char)]<=index:\n",
    "            print(result_string)\n",
    "            curr_idx=result_string.index(char)+1\n",
    "            result_string=result_string[result_string.index(char)+1:]\n",
    "            \n",
    "            \n",
    "        check[ord(char)]=index\n",
    "        result_string+=char\n",
    "        \n",
    "        maxlen=max(maxlen,len(result_string))\n",
    "    if maxlen==0:\n",
    "        return False\n",
    "    return maxlen\n",
    "\n"
   ]
  },
  {
   "cell_type": "code",
   "execution_count": 71,
   "metadata": {},
   "outputs": [
    {
     "name": "stdout",
     "output_type": "stream",
     "text": [
      "0\n",
      "0\n",
      "a\n",
      "1\n",
      "1\n",
      "ab\n",
      "1\n",
      "ba\n",
      "2\n",
      "a\n"
     ]
    },
    {
     "ename": "ValueError",
     "evalue": "substring not found",
     "output_type": "error",
     "traceback": [
      "\u001b[1;31m---------------------------------------------------------------------------\u001b[0m",
      "\u001b[1;31mValueError\u001b[0m                                Traceback (most recent call last)",
      "\u001b[1;32m<ipython-input-71-b0e52a552cdd>\u001b[0m in \u001b[0;36m<module>\u001b[1;34m\u001b[0m\n\u001b[1;32m----> 1\u001b[1;33m \u001b[0mlongest_string\u001b[0m\u001b[1;33m(\u001b[0m\u001b[1;34m'aabaabcbb'\u001b[0m\u001b[1;33m)\u001b[0m\u001b[1;33m\u001b[0m\u001b[1;33m\u001b[0m\u001b[0m\n\u001b[0m",
      "\u001b[1;32m<ipython-input-67-e1b3cb6fb62e>\u001b[0m in \u001b[0;36mlongest_string\u001b[1;34m(string)\u001b[0m\n\u001b[0;32m     13\u001b[0m         \u001b[1;32mif\u001b[0m \u001b[0mcurr_idx\u001b[0m\u001b[1;33m<=\u001b[0m\u001b[0mcheck\u001b[0m\u001b[1;33m[\u001b[0m\u001b[0mord\u001b[0m\u001b[1;33m(\u001b[0m\u001b[0mchar\u001b[0m\u001b[1;33m)\u001b[0m\u001b[1;33m]\u001b[0m\u001b[1;33m<=\u001b[0m\u001b[0mindex\u001b[0m\u001b[1;33m:\u001b[0m\u001b[1;33m\u001b[0m\u001b[1;33m\u001b[0m\u001b[0m\n\u001b[0;32m     14\u001b[0m             \u001b[0mprint\u001b[0m\u001b[1;33m(\u001b[0m\u001b[0mresult_string\u001b[0m\u001b[1;33m)\u001b[0m\u001b[1;33m\u001b[0m\u001b[1;33m\u001b[0m\u001b[0m\n\u001b[1;32m---> 15\u001b[1;33m             \u001b[0mcurr_idx\u001b[0m\u001b[1;33m=\u001b[0m\u001b[0mresult_string\u001b[0m\u001b[1;33m.\u001b[0m\u001b[0mindex\u001b[0m\u001b[1;33m(\u001b[0m\u001b[0mchar\u001b[0m\u001b[1;33m)\u001b[0m\u001b[1;33m+\u001b[0m\u001b[1;36m1\u001b[0m\u001b[1;33m\u001b[0m\u001b[1;33m\u001b[0m\u001b[0m\n\u001b[0m\u001b[0;32m     16\u001b[0m             \u001b[0mresult_string\u001b[0m\u001b[1;33m=\u001b[0m\u001b[0mresult_string\u001b[0m\u001b[1;33m[\u001b[0m\u001b[0mresult_string\u001b[0m\u001b[1;33m.\u001b[0m\u001b[0mindex\u001b[0m\u001b[1;33m(\u001b[0m\u001b[0mchar\u001b[0m\u001b[1;33m)\u001b[0m\u001b[1;33m+\u001b[0m\u001b[1;36m1\u001b[0m\u001b[1;33m:\u001b[0m\u001b[1;33m]\u001b[0m\u001b[1;33m\u001b[0m\u001b[1;33m\u001b[0m\u001b[0m\n\u001b[0;32m     17\u001b[0m \u001b[1;33m\u001b[0m\u001b[0m\n",
      "\u001b[1;31mValueError\u001b[0m: substring not found"
     ]
    }
   ],
   "source": [
    "longest_string('aabaabcbb')"
   ]
  }
 ],
 "metadata": {
  "kernelspec": {
   "display_name": "base",
   "language": "python",
   "name": "python3"
  },
  "language_info": {
   "codemirror_mode": {
    "name": "ipython",
    "version": 3
   },
   "file_extension": ".py",
   "mimetype": "text/x-python",
   "name": "python",
   "nbconvert_exporter": "python",
   "pygments_lexer": "ipython3",
   "version": "3.8.8"
  },
  "orig_nbformat": 4
 },
 "nbformat": 4,
 "nbformat_minor": 2
}
